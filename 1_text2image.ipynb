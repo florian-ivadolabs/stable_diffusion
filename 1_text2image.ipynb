{
 "cells": [
  {
   "cell_type": "markdown",
   "metadata": {},
   "source": [
    "# Text to Image\n",
    "From a text (called prompt), let's generate an corresponding image"
   ]
  },
  {
   "cell_type": "markdown",
   "metadata": {},
   "source": [
    "## Huggingface logging"
   ]
  },
  {
   "cell_type": "code",
   "execution_count": null,
   "metadata": {},
   "outputs": [],
   "source": [
    "\n",
    "# Call it only the 1st time (no need after restart)\n",
    "# from huggingface_hub import notebook_login\n",
    "# notebook_login()"
   ]
  },
  {
   "cell_type": "markdown",
   "metadata": {},
   "source": [
    "## Import modules"
   ]
  },
  {
   "cell_type": "code",
   "execution_count": null,
   "metadata": {},
   "outputs": [],
   "source": [
    "from stable_diffusion import StableDiffusion, Scheduler"
   ]
  },
  {
   "cell_type": "markdown",
   "metadata": {},
   "source": [
    "## Let's do some generations!"
   ]
  },
  {
   "cell_type": "code",
   "execution_count": null,
   "metadata": {},
   "outputs": [],
   "source": [
    "sd = StableDiffusion(scheduler=Scheduler.LMSD)"
   ]
  },
  {
   "cell_type": "markdown",
   "metadata": {},
   "source": [
    "### Generate one image"
   ]
  },
  {
   "cell_type": "code",
   "execution_count": null,
   "metadata": {},
   "outputs": [],
   "source": [
    "# Define prompt, more adjectives help to define better images\n",
    "# We will use this one for the whole notebook\n",
    "prompt = f\"a cat wearing a red wig on its head\""
   ]
  },
  {
   "cell_type": "code",
   "execution_count": null,
   "metadata": {},
   "outputs": [],
   "source": [
    "# Run generation\n",
    "display(sd.generate_image(prompt)[0])"
   ]
  },
  {
   "cell_type": "markdown",
   "metadata": {},
   "source": [
    "### Generate another image"
   ]
  },
  {
   "cell_type": "code",
   "execution_count": null,
   "metadata": {},
   "outputs": [],
   "source": [
    "# To get a different image, set another seed\n",
    "display(sd.generate_image(prompt, seed=45)[0])"
   ]
  },
  {
   "cell_type": "markdown",
   "metadata": {},
   "source": [
    "### Generate multiple images"
   ]
  },
  {
   "cell_type": "code",
   "execution_count": null,
   "metadata": {},
   "outputs": [],
   "source": [
    "# To generate several images, loop and change the seed in the loop\n",
    "for i in range(3):\n",
    "    display(sd.generate_image(prompt, seed=46+i)[0])"
   ]
  },
  {
   "cell_type": "markdown",
   "metadata": {},
   "source": [
    "### Play with size"
   ]
  },
  {
   "cell_type": "code",
   "execution_count": null,
   "metadata": {},
   "outputs": [],
   "source": [
    "# You can set the width and the height\n",
    "# WARNING: those sizes need to be modulo 32 and having both sizes > 512 is computationally expensive and should generate duplication\n",
    "# Let's set generation a landscape image\n",
    "display(sd.generate_image(prompt, width=704, height=448, seed=66)[0])"
   ]
  },
  {
   "cell_type": "code",
   "execution_count": null,
   "metadata": {},
   "outputs": [],
   "source": [
    "# And now portrait!\n",
    "display(sd.generate_image(prompt, width=448, height=704, seed=66)[0])"
   ]
  },
  {
   "cell_type": "markdown",
   "metadata": {},
   "source": [
    "## Advanced features (linked to scheduler)"
   ]
  },
  {
   "cell_type": "markdown",
   "metadata": {},
   "source": [
    "### Number of steps\n",
    "The number of steps defines how fast the denoising happens.  \n",
    "If you define a small number of steps, you ask the model to generate an image with big jumps vs small steps.  \n",
    "WARNING: The generation time *linearally* grows with the number of steps."
   ]
  },
  {
   "cell_type": "code",
   "execution_count": null,
   "metadata": {},
   "outputs": [],
   "source": [
    "# Let's loop on the same seed but with different number of steps: 5, 25 (default), 45, 65\n",
    "for i in range(4):\n",
    "    display(sd.generate_image(prompt, num_steps=5+(20*i), seed=86)[0])"
   ]
  },
  {
   "cell_type": "markdown",
   "metadata": {},
   "source": [
    "### Sheduler\n",
    "The way to remove/add noise step by step is controlled by a scheduler with different underlying algorithm.   \n",
    "Some can yield cleaner results for lower number of steps or are more stable to gain finer details.  \n",
    "It is really about preferences and computation time."
   ]
  },
  {
   "cell_type": "code",
   "execution_count": null,
   "metadata": {},
   "outputs": [],
   "source": [
    "# Let's generate the same seed for a small number of step with the 3 available schedulers\n",
    "# WARNING: instanciating the main class, triggers the reloading of the model weights\n",
    "available_schedulers = list(Scheduler)\n",
    "print(available_schedulers)\n",
    "for s in available_schedulers:\n",
    "    display(StableDiffusion(scheduler=s).generate_image(prompt, num_steps=15, seed=123)[0])"
   ]
  },
  {
   "cell_type": "code",
   "execution_count": null,
   "metadata": {},
   "outputs": [],
   "source": []
  }
 ],
 "metadata": {
  "kernelspec": {
   "display_name": "Python 3.9.12 ('pytorch')",
   "language": "python",
   "name": "python3"
  },
  "language_info": {
   "codemirror_mode": {
    "name": "ipython",
    "version": 3
   },
   "file_extension": ".py",
   "mimetype": "text/x-python",
   "name": "python",
   "nbconvert_exporter": "python",
   "pygments_lexer": "ipython3",
   "version": "3.9.12"
  },
  "orig_nbformat": 4,
  "vscode": {
   "interpreter": {
    "hash": "1851ff541982d2ec83e610ca283751e0a1b9bc22cc66e3e7cfac05134f5f70d9"
   }
  }
 },
 "nbformat": 4,
 "nbformat_minor": 2
}
