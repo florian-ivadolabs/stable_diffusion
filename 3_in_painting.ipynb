{
 "cells": [
  {
   "cell_type": "markdown",
   "metadata": {},
   "source": [
    "# In-Painting\n",
    "From a text, an image and a mask, let's patch generate an image.  \n",
    "All the parameters explained in the previous notebooks are applicable."
   ]
  },
  {
   "cell_type": "markdown",
   "metadata": {},
   "source": [
    "## Huggingface logging"
   ]
  },
  {
   "cell_type": "code",
   "execution_count": null,
   "metadata": {},
   "outputs": [],
   "source": [
    "\n",
    "# Call it only the 1st time (no need after restart)\n",
    "# from huggingface_hub import notebook_login\n",
    "# notebook_login()"
   ]
  },
  {
   "cell_type": "markdown",
   "metadata": {},
   "source": [
    "## Import modules"
   ]
  },
  {
   "cell_type": "code",
   "execution_count": null,
   "metadata": {},
   "outputs": [],
   "source": [
    "from stable_diffusion import StableDiffusion, Scheduler"
   ]
  },
  {
   "cell_type": "markdown",
   "metadata": {},
   "source": [
    "## Let's do some generations with another image as seed!"
   ]
  },
  {
   "cell_type": "code",
   "execution_count": null,
   "metadata": {},
   "outputs": [],
   "source": [
    "# WARNING: Scheduler.LMSD can't be used for image based generation\n",
    "sd = StableDiffusion(scheduler=Scheduler.DDIM)"
   ]
  },
  {
   "cell_type": "markdown",
   "metadata": {},
   "source": [
    "### Patch one image"
   ]
  },
  {
   "cell_type": "code",
   "execution_count": null,
   "metadata": {},
   "outputs": [],
   "source": [
    "# Display a base image\n",
    "init_image = \"images/bag_bench.jpg\"\n",
    "init_mask = \"images/bag_bench_mask.jpg\"\n",
    "display(sd.open_image(init_image))\n",
    "display(sd.open_image(init_mask))"
   ]
  },
  {
   "cell_type": "code",
   "execution_count": null,
   "metadata": {},
   "outputs": [],
   "source": [
    "# Define prompt, let's start simple\n",
    "prompt = f\"a red bag on a bench\"\n",
    "# Run generation\n",
    "display(sd.generate_image(prompt, num_steps=25, init_image=init_image, init_mask=init_mask, width=704, height=448, init_strength=0.75)[0])"
   ]
  },
  {
   "cell_type": "markdown",
   "metadata": {},
   "source": [
    "### Try to control it"
   ]
  },
  {
   "cell_type": "code",
   "execution_count": null,
   "metadata": {},
   "outputs": [],
   "source": [
    "# Try different seeds\n",
    "for i in range(4):\n",
    "    display(sd.generate_image(prompt, num_steps=25, init_image=init_image, init_mask=init_mask, width=704, height=448, init_strength=0.75, seed=76+i)[0])"
   ]
  },
  {
   "cell_type": "markdown",
   "metadata": {},
   "source": [
    "Same as previously, You can control it thanks to the argument `init_strength`:  \n",
    "- `0.0` means you want to be as close as possible of the initialization image\n",
    "- `1.0` means you want ot be as random as possible\n",
    "Let's reduce it in our case to make appear an eagle but respecting the composition of the image"
   ]
  },
  {
   "cell_type": "code",
   "execution_count": null,
   "metadata": {},
   "outputs": [],
   "source": [
    "# Run generation with a bigger strength 0.5, 0.6, 0.7, 0.8\n",
    "for i in range(4):\n",
    "    display(sd.generate_image(prompt, num_steps=25, init_image=init_image, init_mask=init_mask, width=704, height=448, init_strength=0.5+(0.1*i), seed=77)[0])"
   ]
  },
  {
   "cell_type": "markdown",
   "metadata": {},
   "source": [
    "After a while the model ignores the mask"
   ]
  },
  {
   "cell_type": "markdown",
   "metadata": {},
   "source": [
    "## Let's be imaginative"
   ]
  },
  {
   "cell_type": "code",
   "execution_count": null,
   "metadata": {},
   "outputs": [],
   "source": [
    "prompt = \"a teddy bear on a bench\"\n",
    "for i in range(4):\n",
    "    display(sd.generate_image(prompt, num_steps=25, init_image=init_image, init_mask=init_mask, width=704, height=448, init_strength=0.75, seed=78 + i)[0])"
   ]
  },
  {
   "cell_type": "code",
   "execution_count": null,
   "metadata": {},
   "outputs": [],
   "source": [
    "prompt = \"the most amazing thing on a bench, cinematic lights\"\n",
    "for i in range(4):\n",
    "    display(sd.generate_image(prompt, num_steps=25, init_image=init_image, init_mask=init_mask, init_strength=0.75, seed=78+i)[0])"
   ]
  },
  {
   "cell_type": "code",
   "execution_count": null,
   "metadata": {},
   "outputs": [],
   "source": []
  }
 ],
 "metadata": {
  "kernelspec": {
   "display_name": "Python 3.9.12 ('pytorch')",
   "language": "python",
   "name": "python3"
  },
  "language_info": {
   "codemirror_mode": {
    "name": "ipython",
    "version": 3
   },
   "file_extension": ".py",
   "mimetype": "text/x-python",
   "name": "python",
   "nbconvert_exporter": "python",
   "pygments_lexer": "ipython3",
   "version": "3.9.12"
  },
  "orig_nbformat": 4,
  "vscode": {
   "interpreter": {
    "hash": "1851ff541982d2ec83e610ca283751e0a1b9bc22cc66e3e7cfac05134f5f70d9"
   }
  }
 },
 "nbformat": 4,
 "nbformat_minor": 2
}
